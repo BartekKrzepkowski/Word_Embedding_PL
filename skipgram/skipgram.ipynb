{
 "cells": [
  {
   "cell_type": "code",
   "execution_count": null,
   "id": "expected-interest",
   "metadata": {},
   "outputs": [],
   "source": [
    "%load_ext autoreload\n",
    "%autoreload 2\n",
    "# %load_ext tensorboard"
   ]
  },
  {
   "cell_type": "code",
   "execution_count": null,
   "id": "athletic-hebrew",
   "metadata": {},
   "outputs": [],
   "source": [
    "import torch\n",
    "\n",
    "device = torch.device('cuda:0' if torch.cuda.is_available() else 'cpu')\n",
    "random_seed = 9265\n",
    "\n",
    "from model import SkipGramModel, NCELoss\n",
    "from data import Train_Dataset\n",
    "from skipgram import EmbTrainer\n",
    "from utils import get_loaders, visualize_embeddings"
   ]
  },
  {
   "cell_type": "code",
   "execution_count": null,
   "id": "announced-possibility",
   "metadata": {},
   "outputs": [],
   "source": [
    "# dataset = Train_Dataset('datasets/open_subtitles_pl_georgia/datasetSentences.csv', window_size=5)\n",
    "loaders = get_loaders(dataset, batch_size=16)\n",
    "\n",
    "epochs = 300\n",
    "model = SkipGramModel(v_size=len(dataset), emb_dim=100)\n",
    "optim = torch.optim.SGD(model.parameters(), lr=0.001)\n",
    "params_trainer = {\n",
    "    'model': model,\n",
    "    'loaders': loaders,\n",
    "    'criterion': NCELoss(),\n",
    "    'optim': optim,\n",
    "    'scheduler': torch.optim.lr_scheduler.CosineAnnealingLR(optim, epochs),\n",
    "    'verbose': True,\n",
    "    'device': device\n",
    "#     'params_clearml': params_clearml,\n",
    "#     'is_tensorboard': True\n",
    "}\n",
    "\n",
    "trainer = EmbTrainer(**params_trainer)"
   ]
  },
  {
   "cell_type": "code",
   "execution_count": null,
   "id": "intense-metadata",
   "metadata": {
    "tags": []
   },
   "outputs": [],
   "source": [
    "trainer.loop(0, epochs)"
   ]
  },
  {
   "cell_type": "code",
   "execution_count": null,
   "id": "loaded-analyst",
   "metadata": {},
   "outputs": [],
   "source": [
    "word2Ind = {word: i for i, word in dataset.Ind2word.items()}\n",
    "\n",
    "chosen_words = [\n",
    "    \"świetny\", \"głupi\", \"wspaniały\", \"spoko\", \"ekstra\",\n",
    "    \"słodki\", \"nudny\",   \"zły\", \n",
    "    \"artyleria\", \"generał\", 'porucznik', \"sierżant\", \"wojsko\",\n",
    "#     \"dobrze\"\n",
    "] \n",
    "chosen_idxs = [word2Ind[word] for word in chosen_words]\n",
    "\n",
    "visualize_embeddings(model.emb.weight.detach().cpu().numpy(), chosen_idxs, dataset.Ind2word)"
   ]
  },
  {
   "cell_type": "code",
   "execution_count": null,
   "id": "specialized-maximum",
   "metadata": {},
   "outputs": [],
   "source": []
  },
  {
   "cell_type": "code",
   "execution_count": null,
   "id": "micro-convention",
   "metadata": {},
   "outputs": [],
   "source": [
    "class NCELossClassifier(torch.nn.Module):\n",
    "    def __init__(self, num_class=10):\n",
    "        super().__init__()\n",
    "        self.num_class = num_class\n",
    "\n",
    "    def forward(self, y_pred, y_true):\n",
    "        '''\n",
    "        y_pred : torch.tensor (b, c)\n",
    "        y_true : torch.tensor (b, c)\n",
    "        '''\n",
    "        y_true = F.one_hot(y_true, num_classes=self.num_class)\n",
    "        pos = torch.log(torch.sigmoid(y_pred * y_true))\n",
    "        negs = torch.log(torch.sigmoid(- y_pred * (1 - y_true)))\n",
    "        loss = - pos.mean() - negs.mean()\n",
    "        return loss"
   ]
  }
 ],
 "metadata": {
  "kernelspec": {
   "display_name": "tldl",
   "language": "python",
   "name": "tldl"
  },
  "language_info": {
   "codemirror_mode": {
    "name": "ipython",
    "version": 3
   },
   "file_extension": ".py",
   "mimetype": "text/x-python",
   "name": "python",
   "nbconvert_exporter": "python",
   "pygments_lexer": "ipython3",
   "version": "3.8.10"
  }
 },
 "nbformat": 4,
 "nbformat_minor": 5
}
