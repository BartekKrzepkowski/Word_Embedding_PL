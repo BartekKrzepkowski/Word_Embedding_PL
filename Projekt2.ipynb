{
 "cells": [
  {
   "cell_type": "markdown",
   "metadata": {
    "colab_type": "text",
    "id": "ATDuPfxjeloM"
   },
   "source": [
    "# Projekt 2 - Word Embeddings\n",
    "\n",
    "## Opis projektu \n",
    "\n",
    "Zadanie polega na stworzeniu reprezentacji wektorowych słów z wybranego przez siebie korpusu oraz na znalezieniu zależności (w wersji podstawowej wyszukanie wyrazów bliskoznacznych, w wersji zaawansowanej wyszukiwanie odległości pomiędzy wektorami) występujących w tej reprezentacji. Korpus musi być po polsku. Można stworzyć word2vec przy pomocy gensima (opcja podstawowa) oraz własne (opcja zaawansowana, trochę lepiej punktowana). Projekcje zaleca się stworzyć korzystając z projektora tensorflow (link poniżej). Tam też najwygodniej będzie szukać wyrazów bliskoznacznych na różnych osiach. \n",
    "\n",
    "Opis projektora znajduje się tutaj: \n",
    "\n",
    "https://experiments.withgoogle.com/visualizing-high-dimensional-space\n",
    "\n",
    "A sam projektor tutaj: \n",
    "\n",
    "https://projector.tensorflow.org/\n",
    "\n",
    "\n",
    "## Dane\n",
    "\n",
    "Dowolnie wybrane dokumenty w języku polskim. Im większy korpus tym bardziej reprezentatywne wyniki i łatwiej znaleźć pewne zależności. Nie powinien być mniejszy niż ok 4 mln słów (dla porównania \"Lalka\" Prusa to ok ćwierć miliona słów). Można korzystać z wolnych lektur, wikipedii, właściwie wszystkiego - najlepiej jednak, żeby teksty były homogeniczne, tak żeby te same słowa powtarzały się w nowych kontekstach.   \n",
    "\n",
    "## Warunki zaliczenia\n",
    "\n",
    "Do zaliczenia wymagany jest:\n",
    "\n",
    "*   plik csv zawierający słowa z jego reprezentacją wektorową \n",
    "*   raport (w pdf albo w colabie), w którym znajdzie się krótki opis korpusu z podstawowymi statystykami (ilość słów, ilość unikalnych słów) oraz opis znalezionych ciekawych właściwości znalezionych w korpusie (wyrazów bliskoznacznych) ze screenami z projektora. Jeśli tworzyło się własne embeddingsy, proszę jeszcze o dodanie kodu. \n",
    "\n",
    "Termin oddania projektu to koniec semestru na (powiedzmy 5 dni przed ostateczną datą wystawienia ocen w czerwcu, tak żebym zdążył to ocenić)."
   ]
  },
  {
   "cell_type": "code",
   "execution_count": null,
   "metadata": {},
   "outputs": [],
   "source": [
    "f."
   ]
  }
 ],
 "metadata": {
  "colab": {
   "name": "Projekt2.ipynb",
   "provenance": [],
   "version": "0.3.2"
  },
  "kernelspec": {
   "display_name": "Python 3",
   "language": "python",
   "name": "python3"
  },
  "language_info": {
   "codemirror_mode": {
    "name": "ipython",
    "version": 3
   },
   "file_extension": ".py",
   "mimetype": "text/x-python",
   "name": "python",
   "nbconvert_exporter": "python",
   "pygments_lexer": "ipython3",
   "version": "3.6.7"
  }
 },
 "nbformat": 4,
 "nbformat_minor": 2
}
